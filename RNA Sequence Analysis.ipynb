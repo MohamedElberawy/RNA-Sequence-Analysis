{
 "cells": [
  {
   "cell_type": "code",
   "execution_count": null,
   "id": "e2e6d066-568c-4821-a1d0-740a1be692f9",
   "metadata": {},
   "outputs": [],
   "source": [
    "import glob\n",
    "import os\n",
    "import subprocess\n",
    "import shlex\n",
    "\n",
    "# Define file paths\n",
    "input_folder = \"/home/masterco20/rna\"\n",
    "output_folder = f\"{input_folder}/Trim_Reads\"\n",
    "logs_folder = f\"{input_folder}/Trim_Logs\"\n",
    "multiqc_output = f\"{input_folder}/MultiQC_Report\"\n",
    "\n",
    "# Log file for the entire script\n",
    "script_log = f\"{logs_folder}/script_execution.log\"\n",
    "\n",
    "# Create output directories if they do not exist\n",
    "os.makedirs(output_folder, exist_ok=True)\n",
    "os.makedirs(logs_folder, exist_ok=True)\n",
    "os.makedirs(multiqc_output, exist_ok=True)\n",
    "\n",
    "# Process all .fastq.gz files in the input folder\n",
    "for file in glob.glob(f\"{input_folder}/*.fastq.gz\"):\n",
    "    base = os.path.basename(file)\n",
    "    sample_name = os.path.splitext(base)[0]  # Extract the sample name without extension\n",
    "\n",
    "    # Log file for each sample processing\n",
    "    sample_log = f\"{logs_folder}/{sample_name}_processing.log\"\n",
    "\n",
    "    # Run fastp with output and error redirection to log files\n",
    "    cmd = f\"fastp -i {file} -I {file.replace('_1.fastq.gz', '_2.fastq.gz')} \\\n",
    "         -o {output_folder}/{sample_name}_trim_R1.fastq.gz -O {output_folder}/{sample_name}_trim_R2.fastq.gz \\\n",
    "         -w 4 --detect_adapter_for_pe \\\n",
    "         -j {logs_folder}/{sample_name}_fastp.json -h {logs_folder}/{sample_name}_fastp_report.html\"\n",
    "    \n",
    "    with open(sample_log, 'w') as f:\n",
    "        subprocess.run(shlex.split(cmd), stdout=f, stderr=subprocess.STDOUT)\n",
    "\n",
    "# Run MultiQC with the fastp module to generate a single report\n",
    "cmd_multiqc = f\"multiqc -m fastp -o {multiqc_output} {logs_folder}\"\n",
    "with open(f\"{logs_folder}/multiqc_execution.log\", 'w') as f:\n",
    "    subprocess.run(shlex.split(cmd_multiqc), stdout=f, stderr=subprocess.STDOUT)"
   ]
  }
 ],
 "metadata": {
  "kernelspec": {
   "display_name": "Python 3 (ipykernel)",
   "language": "python",
   "name": "python3"
  },
  "language_info": {
   "codemirror_mode": {
    "name": "ipython",
    "version": 3
   },
   "file_extension": ".py",
   "mimetype": "text/x-python",
   "name": "python",
   "nbconvert_exporter": "python",
   "pygments_lexer": "ipython3",
   "version": "3.12.3"
  }
 },
 "nbformat": 4,
 "nbformat_minor": 5
}
